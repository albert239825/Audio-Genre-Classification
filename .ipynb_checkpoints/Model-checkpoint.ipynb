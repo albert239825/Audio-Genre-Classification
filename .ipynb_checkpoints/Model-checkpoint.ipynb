{
 "cells": [
  {
   "cell_type": "markdown",
   "metadata": {},
   "source": [
    "## Steps\n",
    "1. Load data from json File\n",
    "2. Split data into train test split\n",
    "3. create neural net using using tensorflow and keras\n",
    "4. Train the network"
   ]
  },
  {
   "cell_type": "code",
   "execution_count": 65,
   "metadata": {},
   "outputs": [],
   "source": [
    "import json\n",
    "import tensorflow as tf\n",
    "import tensorflow.keras as keras\n",
    "import numpy as np\n",
    "from tqdm.auto import tqdm\n",
    "from sklearn.preprocessing import LabelEncoder\n",
    "from sklearn.model_selection import train_test_split\n",
    "import matplotlib.pyplot as plt"
   ]
  },
  {
   "cell_type": "markdown",
   "metadata": {},
   "source": [
    "## Loading the Data"
   ]
  },
  {
   "cell_type": "code",
   "execution_count": 3,
   "metadata": {
    "scrolled": true
   },
   "outputs": [],
   "source": [
    "def load_data(dataset_path):\n",
    "    with open(dataset_path, \"r\") as fp:\n",
    "        data = json.load(fp)\n",
    "    \n",
    "    x = np.array(data['mfcc'])\n",
    "    y = np.array(data['labels'])\n",
    "    num_segments = data['num_segments']\n",
    "    mapping = data['mapping']\n",
    "    file_origin = data['file_origin']\n",
    "    \n",
    "    \n",
    "    return x, y, num_segments, mapping, file_origin"
   ]
  },
  {
   "cell_type": "code",
   "execution_count": 90,
   "metadata": {},
   "outputs": [],
   "source": [
    "x, y, num_segments, mapping, file_origin = load_data(\"data.json\")"
   ]
  },
  {
   "cell_type": "code",
   "execution_count": 89,
   "metadata": {
    "scrolled": false
   },
   "outputs": [
    {
     "data": {
      "text/plain": [
       "129"
      ]
     },
     "execution_count": 89,
     "metadata": {},
     "output_type": "execute_result"
    }
   ],
   "source": [
    "len(x)"
   ]
  },
  {
   "cell_type": "markdown",
   "metadata": {},
   "source": [
    "## Helping Functions"
   ]
  },
  {
   "cell_type": "code",
   "execution_count": 115,
   "metadata": {},
   "outputs": [],
   "source": [
    "def plot_history(history):\n",
    "    fig, axs = plt.subplots(2, figsize = (15,15))\n",
    "    \n",
    "    \n",
    "    \n",
    "    #Create accuracy subplot\n",
    "    \n",
    "    axs[0].plot(history.history[\"acc\"], label = \"train accuracy\")\n",
    "    axs[0].plot(history.history[\"val_acc\"], label = \"test accuracy\")\n",
    "    axs[0].set_ylabel(\"accuracy\")\n",
    "    axs[0].legend(loc = \"lower right\")\n",
    "    axs[0].set_title(\"accuracy eval\")\n",
    "    \n",
    "    #Create Error subplot\n",
    "        \n",
    "    axs[1].plot(history.history[\"loss\"], label = \"train error\")\n",
    "    axs[1].plot(history.history[\"val_loss\"], label = \"test error\")\n",
    "    axs[1].set_ylabel(\"error\")\n",
    "    axs[1].set_xlabel(\"epochs\")\n",
    "    axs[1].legend(loc = \"upper right\")\n",
    "    axs[1].set_title(\"error eval\")\n",
    "    \n",
    "    plt.show()"
   ]
  },
  {
   "cell_type": "code",
   "execution_count": 72,
   "metadata": {},
   "outputs": [],
   "source": [
    "def predict(model, X, y):\n",
    "    X = X[np.newaxis, :]\n",
    "    \n",
    "    # prediction = [[0.2, 0,2, ...]] probabilities\n",
    "    prediction = model.predict(X)\n",
    "    \n",
    "    #extrack index with max value (softmax gives you probabilities)\n",
    "    predicted_index = np.argmax(prediction, axis = 1)\n",
    "    \n",
    "    print(\"The prediction is: {}, The expected output is: {}\".format(mapping[int(predicted_index)], mapping[y]))"
   ]
  },
  {
   "cell_type": "code",
   "execution_count": 6,
   "metadata": {},
   "outputs": [],
   "source": [
    "#create label encoder for inverse fit\n",
    "encoder = LabelEncoder()\n",
    "encoder.classes_ = mapping"
   ]
  },
  {
   "cell_type": "markdown",
   "metadata": {},
   "source": [
    "## Create Train Test split"
   ]
  },
  {
   "cell_type": "code",
   "execution_count": 7,
   "metadata": {
    "scrolled": true
   },
   "outputs": [],
   "source": [
    "x_train, x_test, y_train, y_test = train_test_split(x,y)"
   ]
  },
  {
   "cell_type": "markdown",
   "metadata": {},
   "source": [
    "## Creating Model Structure (Simple Dense Model)"
   ]
  },
  {
   "cell_type": "code",
   "execution_count": 22,
   "metadata": {},
   "outputs": [
    {
     "name": "stderr",
     "output_type": "stream",
     "text": [
      "WARNING: Logging before flag parsing goes to stderr.\n",
      "W0720 20:51:22.942781 140423026370368 deprecation.py:506] From /usr/local/lib/python3.6/dist-packages/tensorflow_core/python/ops/resource_variable_ops.py:1630: calling BaseResourceVariable.__init__ (from tensorflow.python.ops.resource_variable_ops) with constraint is deprecated and will be removed in a future version.\n",
      "Instructions for updating:\n",
      "If using Keras pass *_constraint arguments to layers.\n"
     ]
    }
   ],
   "source": [
    "#this is going to be a basic neural network consisting of only dense layers\n",
    "model_1 = keras.Sequential([\n",
    "    #input layer\n",
    "    keras.layers.Flatten(input_shape = (x.shape[1], x.shape[2])),\n",
    "    \n",
    "    #1st hidden layer\n",
    "    keras.layers.Dense(512, activation = \"relu\"),\n",
    "    \n",
    "    #2nd hidden layers\n",
    "    keras.layers.Dense(256, activation = \"relu\"),\n",
    "    \n",
    "    #3rd hidden layers\n",
    "    keras.layers.Dense(64, activation = \"relu\"),\n",
    "    \n",
    "    keras.layers.Dense(len(mapping), activation = \"softmax\")\n",
    "    \n",
    "])"
   ]
  },
  {
   "cell_type": "code",
   "execution_count": null,
   "metadata": {},
   "outputs": [],
   "source": [
    "optimizer = keras.optimizers.Adam(learning_rate = 0.0001)\n",
    "model_1.compile(optimizer = optimizer, loss = \"sparse_categorical_crossentropy\", metrics = [\"accuracy\"])\n",
    "model_1.summary()"
   ]
  },
  {
   "cell_type": "markdown",
   "metadata": {},
   "source": [
    "## Training The Model"
   ]
  },
  {
   "cell_type": "code",
   "execution_count": 24,
   "metadata": {
    "collapsed": true
   },
   "outputs": [
    {
     "name": "stdout",
     "output_type": "stream",
     "text": [
      "Train on 59955 samples, validate on 19985 samples\n",
      "Epoch 1/50\n",
      "59955/59955 [==============================] - 6s 105us/sample - loss: 6.1380 - acc: 0.2539 - val_loss: 3.0565 - val_acc: 0.2855\n",
      "Epoch 2/50\n",
      "59955/59955 [==============================] - 6s 97us/sample - loss: 2.5872 - acc: 0.3039 - val_loss: 2.3768 - val_acc: 0.3163\n",
      "Epoch 3/50\n",
      "59955/59955 [==============================] - 6s 95us/sample - loss: 2.0907 - acc: 0.3342 - val_loss: 2.1163 - val_acc: 0.3222\n",
      "Epoch 4/50\n",
      "59955/59955 [==============================] - 6s 94us/sample - loss: 1.8613 - acc: 0.3621 - val_loss: 1.9714 - val_acc: 0.3422\n",
      "Epoch 5/50\n",
      "59955/59955 [==============================] - 6s 96us/sample - loss: 1.7465 - acc: 0.3892 - val_loss: 1.9430 - val_acc: 0.3426\n",
      "Epoch 6/50\n",
      "59955/59955 [==============================] - 6s 97us/sample - loss: 1.6641 - acc: 0.4108 - val_loss: 1.9464 - val_acc: 0.3444\n",
      "Epoch 7/50\n",
      "59955/59955 [==============================] - 6s 97us/sample - loss: 1.5921 - acc: 0.4295 - val_loss: 1.8560 - val_acc: 0.3567\n",
      "Epoch 8/50\n",
      "59955/59955 [==============================] - 6s 95us/sample - loss: 1.5329 - acc: 0.4490 - val_loss: 1.8530 - val_acc: 0.3706\n",
      "Epoch 9/50\n",
      "59955/59955 [==============================] - 6s 97us/sample - loss: 1.4817 - acc: 0.4654 - val_loss: 1.8164 - val_acc: 0.3827\n",
      "Epoch 10/50\n",
      "59955/59955 [==============================] - 6s 97us/sample - loss: 1.4295 - acc: 0.4853 - val_loss: 1.8560 - val_acc: 0.3728\n",
      "Epoch 11/50\n",
      "59955/59955 [==============================] - 6s 97us/sample - loss: 1.3880 - acc: 0.5013 - val_loss: 1.8130 - val_acc: 0.3840\n",
      "Epoch 12/50\n",
      "59955/59955 [==============================] - 6s 95us/sample - loss: 1.3465 - acc: 0.5166 - val_loss: 1.8145 - val_acc: 0.3829\n",
      "Epoch 13/50\n",
      "59955/59955 [==============================] - 6s 96us/sample - loss: 1.3009 - acc: 0.5327 - val_loss: 1.8295 - val_acc: 0.3917\n",
      "Epoch 14/50\n",
      "59955/59955 [==============================] - 6s 97us/sample - loss: 1.2621 - acc: 0.5469 - val_loss: 1.8739 - val_acc: 0.3912\n",
      "Epoch 15/50\n",
      "59955/59955 [==============================] - 6s 96us/sample - loss: 1.2149 - acc: 0.5628 - val_loss: 1.8776 - val_acc: 0.3904\n",
      "Epoch 16/50\n",
      "59955/59955 [==============================] - 7s 117us/sample - loss: 1.1804 - acc: 0.5776 - val_loss: 1.8432 - val_acc: 0.4029\n",
      "Epoch 17/50\n",
      "59955/59955 [==============================] - 7s 116us/sample - loss: 1.1537 - acc: 0.5870 - val_loss: 1.8972 - val_acc: 0.3927\n",
      "Epoch 18/50\n",
      "59955/59955 [==============================] - 7s 116us/sample - loss: 1.0980 - acc: 0.6092 - val_loss: 1.9114 - val_acc: 0.3955\n",
      "Epoch 19/50\n",
      "59955/59955 [==============================] - 6s 101us/sample - loss: 1.0595 - acc: 0.6245 - val_loss: 1.9610 - val_acc: 0.4075\n",
      "Epoch 20/50\n",
      "59955/59955 [==============================] - 6s 97us/sample - loss: 1.0253 - acc: 0.6367 - val_loss: 2.0446 - val_acc: 0.3981\n",
      "Epoch 21/50\n",
      "59955/59955 [==============================] - 6s 97us/sample - loss: 0.9902 - acc: 0.6497 - val_loss: 1.9658 - val_acc: 0.4099\n",
      "Epoch 22/50\n",
      "59955/59955 [==============================] - 6s 101us/sample - loss: 0.9585 - acc: 0.6598 - val_loss: 1.9809 - val_acc: 0.4102\n",
      "Epoch 23/50\n",
      "59955/59955 [==============================] - 7s 115us/sample - loss: 0.9272 - acc: 0.6735 - val_loss: 2.0220 - val_acc: 0.4151\n",
      "Epoch 24/50\n",
      "59955/59955 [==============================] - 6s 98us/sample - loss: 0.8924 - acc: 0.6851 - val_loss: 2.0568 - val_acc: 0.4049\n",
      "Epoch 25/50\n",
      "59955/59955 [==============================] - 6s 99us/sample - loss: 0.8524 - acc: 0.7014 - val_loss: 2.1473 - val_acc: 0.4132\n",
      "Epoch 26/50\n",
      "59955/59955 [==============================] - 7s 118us/sample - loss: 0.8314 - acc: 0.7101 - val_loss: 2.1326 - val_acc: 0.4153\n",
      "Epoch 27/50\n",
      "59955/59955 [==============================] - 6s 98us/sample - loss: 0.7935 - acc: 0.7226 - val_loss: 2.2597 - val_acc: 0.4009\n",
      "Epoch 28/50\n",
      "59955/59955 [==============================] - 7s 113us/sample - loss: 0.7671 - acc: 0.7337 - val_loss: 2.2277 - val_acc: 0.4077\n",
      "Epoch 29/50\n",
      "59955/59955 [==============================] - 7s 111us/sample - loss: 0.7453 - acc: 0.7414 - val_loss: 2.2533 - val_acc: 0.4112\n",
      "Epoch 30/50\n",
      "59955/59955 [==============================] - 6s 100us/sample - loss: 0.7072 - acc: 0.7565 - val_loss: 2.3094 - val_acc: 0.4127\n",
      "Epoch 31/50\n",
      "59955/59955 [==============================] - 6s 100us/sample - loss: 0.6824 - acc: 0.7635 - val_loss: 2.3834 - val_acc: 0.4154\n",
      "Epoch 32/50\n",
      "59955/59955 [==============================] - 6s 103us/sample - loss: 0.6601 - acc: 0.7735 - val_loss: 2.4164 - val_acc: 0.4095\n",
      "Epoch 33/50\n",
      "59955/59955 [==============================] - 6s 101us/sample - loss: 0.6442 - acc: 0.7781 - val_loss: 2.5084 - val_acc: 0.4137\n",
      "Epoch 34/50\n",
      "59955/59955 [==============================] - 6s 101us/sample - loss: 0.6275 - acc: 0.7842 - val_loss: 2.5998 - val_acc: 0.4144\n",
      "Epoch 35/50\n",
      "59955/59955 [==============================] - 6s 100us/sample - loss: 0.5921 - acc: 0.8005 - val_loss: 2.5869 - val_acc: 0.4178\n",
      "Epoch 36/50\n",
      "59955/59955 [==============================] - 6s 101us/sample - loss: 0.5707 - acc: 0.8056 - val_loss: 2.7429 - val_acc: 0.4076\n",
      "Epoch 37/50\n",
      "59955/59955 [==============================] - 6s 100us/sample - loss: 0.5522 - acc: 0.8117 - val_loss: 2.6793 - val_acc: 0.4190\n",
      "Epoch 38/50\n",
      "59955/59955 [==============================] - 6s 99us/sample - loss: 0.5378 - acc: 0.8179 - val_loss: 2.7383 - val_acc: 0.4034\n",
      "Epoch 39/50\n",
      "59955/59955 [==============================] - 5s 91us/sample - loss: 0.5173 - acc: 0.8236 - val_loss: 2.8399 - val_acc: 0.4086\n",
      "Epoch 40/50\n",
      "59955/59955 [==============================] - 5s 90us/sample - loss: 0.5042 - acc: 0.8292 - val_loss: 2.9394 - val_acc: 0.4015\n",
      "Epoch 41/50\n",
      "59955/59955 [==============================] - 4s 60us/sample - loss: 0.4824 - acc: 0.8383 - val_loss: 2.8759 - val_acc: 0.4190\n",
      "Epoch 42/50\n",
      "59955/59955 [==============================] - 3s 56us/sample - loss: 0.4626 - acc: 0.8441 - val_loss: 2.9845 - val_acc: 0.4132\n",
      "Epoch 43/50\n",
      "59955/59955 [==============================] - 3s 56us/sample - loss: 0.4410 - acc: 0.8514 - val_loss: 3.0497 - val_acc: 0.4049\n",
      "Epoch 44/50\n",
      "59955/59955 [==============================] - 3s 55us/sample - loss: 0.4292 - acc: 0.8568 - val_loss: 3.1053 - val_acc: 0.4161\n",
      "Epoch 45/50\n",
      "59955/59955 [==============================] - 5s 86us/sample - loss: 0.4281 - acc: 0.8570 - val_loss: 3.1593 - val_acc: 0.4082\n",
      "Epoch 46/50\n",
      "59955/59955 [==============================] - 6s 94us/sample - loss: 0.4124 - acc: 0.8621 - val_loss: 3.2493 - val_acc: 0.4109\n",
      "Epoch 47/50\n",
      "59955/59955 [==============================] - 5s 87us/sample - loss: 0.4015 - acc: 0.8665 - val_loss: 3.3753 - val_acc: 0.4032\n",
      "Epoch 48/50\n",
      "59955/59955 [==============================] - 3s 55us/sample - loss: 0.3823 - acc: 0.8738 - val_loss: 3.3148 - val_acc: 0.4135\n",
      "Epoch 49/50\n",
      "59955/59955 [==============================] - 3s 57us/sample - loss: 0.3677 - acc: 0.8791 - val_loss: 3.4188 - val_acc: 0.3990\n",
      "Epoch 50/50\n",
      "59955/59955 [==============================] - 3s 55us/sample - loss: 0.3743 - acc: 0.8742 - val_loss: 3.4854 - val_acc: 0.4059\n"
     ]
    },
    {
     "data": {
      "text/plain": [
       "<tensorflow.python.keras.callbacks.History at 0x7fb5eacb8ba8>"
      ]
     },
     "execution_count": 24,
     "metadata": {},
     "output_type": "execute_result"
    }
   ],
   "source": [
    "#this model overfits greatly\n",
    "history_1 = model_1.fit(x_train, y_train, validation_data = (x_test, y_test), epochs = 50, batch_size = 128)"
   ]
  },
  {
   "cell_type": "code",
   "execution_count": null,
   "metadata": {},
   "outputs": [],
   "source": [
    "plot_history(history_1)"
   ]
  },
  {
   "cell_type": "markdown",
   "metadata": {},
   "source": [
    "## Creating Model Structure (Convnet)"
   ]
  },
  {
   "cell_type": "code",
   "execution_count": 27,
   "metadata": {},
   "outputs": [],
   "source": [
    "x_train_cnn = np.expand_dims(x_train, axis = -1)\n",
    "x_test_cnn = np.expand_dims(x_test, axis = -1)"
   ]
  },
  {
   "cell_type": "code",
   "execution_count": 35,
   "metadata": {},
   "outputs": [
    {
     "data": {
      "text/plain": [
       "(59955, 129, 13, 1)"
      ]
     },
     "execution_count": 35,
     "metadata": {},
     "output_type": "execute_result"
    }
   ],
   "source": [
    "x_train_cnn.shape"
   ]
  },
  {
   "cell_type": "code",
   "execution_count": 52,
   "metadata": {},
   "outputs": [],
   "source": [
    "input_shape = x_train_cnn.shape[1:]\n",
    "model_2 = keras.Sequential([\n",
    "    #1st convlayer (input)\n",
    "    keras.layers.Conv2D(32, (3,3), strides=1,padding = 'same',input_shape = input_shape, activation = 'relu'),\n",
    "    #Downsizing MaxPool layer\n",
    "    keras.layers.Conv2D(32, (3,3), strides=1,padding = 'same',activation = 'relu'),\n",
    "    keras.layers.MaxPool2D((3,3), strides = (2,2), padding = 'same'),\n",
    "    #normalizes activation\n",
    "    keras.layers.BatchNormalization(),\n",
    "                        \n",
    "    #2nd conv layer\n",
    "    keras.layers.Conv2D(64, (3,3),strides=1,padding = 'same', activation = 'relu'),\n",
    "    keras.layers.Conv2D(64, (3,3), strides=1,padding = 'same',activation = 'relu'),\n",
    "    keras.layers.MaxPool2D((3,3), strides = (2,2), padding = 'same'),\n",
    "    keras.layers.BatchNormalization(),\n",
    "\n",
    "    keras.layers.Conv2D(128, (3,3),strides=1,padding = 'same', activation = 'relu'),\n",
    "    keras.layers.Conv2D(128, (3,3), strides=1,padding = 'same',activation = 'relu'),\n",
    "    keras.layers.MaxPool2D((3,3), strides = (2,2), padding = 'same'),\n",
    "    keras.layers.BatchNormalization(),\n",
    "\n",
    "\n",
    "    keras.layers.Dropout(0.3),                    \n",
    "    #flatten the output to feed to dense output layer\n",
    "    keras.layers.Flatten(),\n",
    "    keras.layers.Dense(64, activation = 'relu'),\n",
    "    keras.layers.Dropout(0.3),\n",
    "                    \n",
    "    #Dense output layer\n",
    "    keras.layers.Dense(len(mapping), activation = 'softmax')\n",
    "])"
   ]
  },
  {
   "cell_type": "code",
   "execution_count": null,
   "metadata": {},
   "outputs": [],
   "source": [
    "optimizer = keras.optimizers.Adam(learning_rate = 0.0001)\n",
    "model_2.compile(optimizer = optimizer, loss = \"sparse_categorical_crossentropy\", metrics = [\"accuracy\"])\n",
    "model_2.summary()"
   ]
  },
  {
   "cell_type": "markdown",
   "metadata": {},
   "source": [
    "## Training the Model"
   ]
  },
  {
   "cell_type": "code",
   "execution_count": 54,
   "metadata": {
    "scrolled": true
   },
   "outputs": [
    {
     "name": "stdout",
     "output_type": "stream",
     "text": [
      "Train on 59955 samples, validate on 19985 samples\n",
      "Epoch 1/30\n",
      "59955/59955 [==============================] - 125s 2ms/sample - loss: 1.8176 - acc: 0.3347 - val_loss: 1.6139 - val_acc: 0.4191\n",
      "Epoch 2/30\n",
      "59955/59955 [==============================] - 132s 2ms/sample - loss: 1.6388 - acc: 0.4077 - val_loss: 1.5192 - val_acc: 0.4548\n",
      "Epoch 3/30\n",
      "59955/59955 [==============================] - 134s 2ms/sample - loss: 1.5506 - acc: 0.4431 - val_loss: 1.4228 - val_acc: 0.4964\n",
      "Epoch 4/30\n",
      "59955/59955 [==============================] - 131s 2ms/sample - loss: 1.4813 - acc: 0.4719 - val_loss: 1.4114 - val_acc: 0.4969\n",
      "Epoch 5/30\n",
      "59955/59955 [==============================] - 134s 2ms/sample - loss: 1.4170 - acc: 0.4973 - val_loss: 1.3681 - val_acc: 0.5105\n",
      "Epoch 6/30\n",
      "59955/59955 [==============================] - 132s 2ms/sample - loss: 1.3609 - acc: 0.5173 - val_loss: 1.3401 - val_acc: 0.5205\n",
      "Epoch 7/30\n",
      "59955/59955 [==============================] - 131s 2ms/sample - loss: 1.3106 - acc: 0.5338 - val_loss: 1.2996 - val_acc: 0.5415\n",
      "Epoch 8/30\n",
      "59955/59955 [==============================] - 130s 2ms/sample - loss: 1.2649 - acc: 0.5525 - val_loss: 1.2816 - val_acc: 0.5448\n",
      "Epoch 9/30\n",
      "59955/59955 [==============================] - 131s 2ms/sample - loss: 1.2159 - acc: 0.5669 - val_loss: 1.2046 - val_acc: 0.5743\n",
      "Epoch 10/30\n",
      "59955/59955 [==============================] - 132s 2ms/sample - loss: 1.1734 - acc: 0.5817 - val_loss: 1.1919 - val_acc: 0.5758\n",
      "Epoch 11/30\n",
      "59955/59955 [==============================] - 203s 3ms/sample - loss: 1.1308 - acc: 0.5964 - val_loss: 1.1880 - val_acc: 0.5803\n",
      "Epoch 12/30\n",
      "59955/59955 [==============================] - 212s 4ms/sample - loss: 1.0880 - acc: 0.6110 - val_loss: 1.1712 - val_acc: 0.5879\n",
      "Epoch 13/30\n",
      "59955/59955 [==============================] - 215s 4ms/sample - loss: 1.0509 - acc: 0.6215 - val_loss: 1.1623 - val_acc: 0.5891\n",
      "Epoch 14/30\n",
      "59955/59955 [==============================] - 210s 4ms/sample - loss: 1.0122 - acc: 0.6350 - val_loss: 1.1893 - val_acc: 0.5926\n",
      "Epoch 15/30\n",
      "59955/59955 [==============================] - 211s 4ms/sample - loss: 0.9711 - acc: 0.6512 - val_loss: 1.1420 - val_acc: 0.6052\n",
      "Epoch 16/30\n",
      "59955/59955 [==============================] - 212s 4ms/sample - loss: 0.9333 - acc: 0.6642 - val_loss: 1.1584 - val_acc: 0.5991\n",
      "Epoch 17/30\n",
      "59955/59955 [==============================] - 210s 4ms/sample - loss: 0.8935 - acc: 0.6770 - val_loss: 1.1143 - val_acc: 0.6078\n",
      "Epoch 18/30\n",
      "59955/59955 [==============================] - 211s 4ms/sample - loss: 0.8579 - acc: 0.6893 - val_loss: 1.1393 - val_acc: 0.6056\n",
      "Epoch 19/30\n",
      "59955/59955 [==============================] - 212s 4ms/sample - loss: 0.8291 - acc: 0.6992 - val_loss: 1.1266 - val_acc: 0.6156\n",
      "Epoch 20/30\n",
      "59955/59955 [==============================] - 212s 4ms/sample - loss: 0.7973 - acc: 0.7114 - val_loss: 1.0964 - val_acc: 0.6267\n",
      "Epoch 21/30\n",
      "59955/59955 [==============================] - 213s 4ms/sample - loss: 0.7636 - acc: 0.7211 - val_loss: 1.1366 - val_acc: 0.6198\n",
      "Epoch 22/30\n",
      "59955/59955 [==============================] - 210s 4ms/sample - loss: 0.7384 - acc: 0.7320 - val_loss: 1.0915 - val_acc: 0.6327\n",
      "Epoch 23/30\n",
      "59955/59955 [==============================] - 212s 4ms/sample - loss: 0.7104 - acc: 0.7414 - val_loss: 1.0901 - val_acc: 0.6378\n",
      "Epoch 24/30\n",
      "59955/59955 [==============================] - 213s 4ms/sample - loss: 0.6762 - acc: 0.7537 - val_loss: 1.1275 - val_acc: 0.6300\n",
      "Epoch 25/30\n",
      "59955/59955 [==============================] - 212s 4ms/sample - loss: 0.6515 - acc: 0.7639 - val_loss: 1.0837 - val_acc: 0.6403\n",
      "Epoch 26/30\n",
      "59955/59955 [==============================] - 212s 4ms/sample - loss: 0.6304 - acc: 0.7718 - val_loss: 1.1388 - val_acc: 0.6305\n",
      "Epoch 27/30\n",
      "59955/59955 [==============================] - 209s 3ms/sample - loss: 0.6078 - acc: 0.7802 - val_loss: 1.1395 - val_acc: 0.6388\n",
      "Epoch 28/30\n",
      "59955/59955 [==============================] - 212s 4ms/sample - loss: 0.5844 - acc: 0.7861 - val_loss: 1.1726 - val_acc: 0.6313\n",
      "Epoch 29/30\n",
      "59955/59955 [==============================] - 211s 4ms/sample - loss: 0.5667 - acc: 0.7949 - val_loss: 1.1415 - val_acc: 0.6432\n",
      "Epoch 30/30\n",
      "59955/59955 [==============================] - 211s 4ms/sample - loss: 0.5411 - acc: 0.8027 - val_loss: 1.1376 - val_acc: 0.6406\n"
     ]
    }
   ],
   "source": [
    "history_2 = model_2.fit(x_train_cnn, y_train, validation_data = (x_test_cnn, y_test), batch_size = 128, epochs = 30)"
   ]
  },
  {
   "cell_type": "code",
   "execution_count": 116,
   "metadata": {
    "collapsed": true
   },
   "outputs": [
    {
     "data": {
      "image/png": "[encoded data removed]",
      "text/plain": [
       "<Figure size 1080x1080 with 2 Axes>"
      ]
     },
     "metadata": {},
     "output_type": "display_data"
    }
   ],
   "source": [
    "plot_history(history_2)"
   ]
  },
  {
   "cell_type": "code",
   "execution_count": null,
   "metadata": {},
   "outputs": [],
   "source": [
    "#Homework\n",
    "#Presentation\n",
    "#Data Visualization"
   ]
  },
  {
   "cell_type": "code",
   "execution_count": 79,
   "metadata": {
    "scrolled": true
   },
   "outputs": [
    {
     "name": "stdout",
     "output_type": "stream",
     "text": [
      "The prediction is: Instrumental, The expected output is: Instrumental\n"
     ]
    }
   ],
   "source": [
    "test_case = 106\n",
    "x = x_test_cnn[test_case]\n",
    "y = y_test[test_case]\n",
    "predict(model_2, x, y)"
   ]
  },
  {
   "cell_type": "code",
   "execution_count": 82,
   "metadata": {},
   "outputs": [],
   "source": [
    "from sklearn.metrics import confusion_matrix"
   ]
  },
  {
   "cell_type": "code",
   "execution_count": 91,
   "metadata": {},
   "outputs": [
    {
     "data": {
      "text/plain": [
       "(79940, 129, 13)"
      ]
     },
     "execution_count": 91,
     "metadata": {},
     "output_type": "execute_result"
    }
   ],
   "source": [
    "x.shape"
   ]
  },
  {
   "cell_type": "code",
   "execution_count": 103,
   "metadata": {},
   "outputs": [],
   "source": [
    "prediction_y = model_2.predict(np.expand_dims(x, axis = 3))"
   ]
  },
  {
   "cell_type": "code",
   "execution_count": 112,
   "metadata": {},
   "outputs": [],
   "source": [
    "predictions = np.argmax(prediction_y, axis = -1)"
   ]
  },
  {
   "cell_type": "code",
   "execution_count": 113,
   "metadata": {},
   "outputs": [],
   "source": [
    "cm = confusion_matrix(y, predictions)"
   ]
  },
  {
   "cell_type": "code",
   "execution_count": 114,
   "metadata": {
    "scrolled": false
   },
   "outputs": [
    {
     "data": {
      "text/plain": [
       "<matplotlib.image.AxesImage at 0x7fb5183b7c50>"
      ]
     },
     "execution_count": 114,
     "metadata": {},
     "output_type": "execute_result"
    },
    {
     "data": {
      "image/png": "[encoded data removed]",
      "text/plain": [
       "<Figure size 432x288 with 1 Axes>"
      ]
     },
     "metadata": {},
     "output_type": "display_data"
    }
   ],
   "source": [
    "plt.imshow(cm)"
   ]
  },
  {
   "cell_type": "markdown",
   "metadata": {},
   "source": [
    "## RNN-LSTM Model"
   ]
  },
  {
   "cell_type": "code",
   "execution_count": null,
   "metadata": {},
   "outputs": [],
   "source": [
    "input_shape = x.shape[1:]\n",
    "model_lstm = keras.Sequential()\n",
    "\n",
    "\n",
    "\n",
    "#output layer\n",
    "model_lstm.add(keras.layers.Dense(len(mapping), activation = 'softmax'))\n"
   ]
  }
 ],
 "metadata": {
  "kernelspec": {
   "display_name": "Python 3",
   "language": "python",
   "name": "python3"
  },
  "language_info": {
   "codemirror_mode": {
    "name": "ipython",
    "version": 3
   },
   "file_extension": ".py",
   "mimetype": "text/x-python",
   "name": "python",
   "nbconvert_exporter": "python",
   "pygments_lexer": "ipython3",
   "version": "3.6.9"
  }
 },
 "nbformat": 4,
 "nbformat_minor": 2
}
