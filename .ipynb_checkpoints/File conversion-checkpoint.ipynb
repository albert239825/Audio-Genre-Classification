{
 "cells": [
  {
   "cell_type": "code",
   "execution_count": 1,
   "metadata": {},
   "outputs": [],
   "source": [
    "#Librosa doesn't like mp3 so I am going to convert into wav"
   ]
  },
  {
   "cell_type": "code",
   "execution_count": 2,
   "metadata": {},
   "outputs": [],
   "source": [
    "#!pip install --user pydub"
   ]
  },
  {
   "cell_type": "code",
   "execution_count": 13,
   "metadata": {},
   "outputs": [],
   "source": [
    "from pydub import AudioSegment\n",
    "import glob\n",
    "from tqdm.auto import tqdm\n",
    "import shutil\n",
    "import os"
   ]
  },
  {
   "cell_type": "code",
   "execution_count": 14,
   "metadata": {},
   "outputs": [],
   "source": [
    "#creating skeleton folder structure of fma small so we can put wav files in\n",
    "def create_dir():\n",
    "    src = 'fma_small'\n",
    "    dest = 'fma_small_wav'\n",
    "\n",
    "    def ignore_files(folder, files):\n",
    "        return [f for f in files if not os.path.isdir(os.path.join(folder, f))]\n",
    "\n",
    "    shutil.copytree(src,dest,symlinks=False,ignore=ignore_files);\n",
    "    \n",
    "#create_dir()"
   ]
  },
  {
   "cell_type": "code",
   "execution_count": 15,
   "metadata": {},
   "outputs": [
    {
     "data": {
      "text/plain": [
       "8000"
      ]
     },
     "execution_count": 15,
     "metadata": {},
     "output_type": "execute_result"
    }
   ],
   "source": [
    "audio_tracks=glob.glob(\"fma_small/*/*\")\n",
    "audio_tracks = sorted(audio_tracks)\n",
    "#'fma_small/099/099134.mp3' is corrupt\n",
    "# audio_tracks.remove('fma_small/099/099134.mp3')\n",
    "# audio_tracks.remove('fma_small/108/108925.mp3')\n",
    "# audio_tracks.remove('fma_small/133/133297.mp3')\n",
    "len(audio_tracks)"
   ]
  },
  {
   "cell_type": "code",
   "execution_count": 19,
   "metadata": {
    "scrolled": true
   },
   "outputs": [
    {
     "data": {
      "application/vnd.jupyter.widget-view+json": {
       "model_id": "93ae7917f56d4dd29a50545e810a2d67",
       "version_major": 2,
       "version_minor": 0
      },
      "text/plain": [
       "HBox(children=(IntProgress(value=0, max=8000), HTML(value='')))"
      ]
     },
     "metadata": {},
     "output_type": "display_data"
    },
    {
     "name": "stdout",
     "output_type": "stream",
     "text": [
      "current file fma_small/000/000002.mp3\n",
      "current file fma_small/011/011638.mp3\n",
      "current file fma_small/024/024745.mp3\n",
      "current file fma_small/038/038888.mp3\n",
      "current file fma_small/049/049064.mp3\n",
      "current file fma_small/058/058161.mp3\n",
      "current file fma_small/068/068600.mp3\n",
      "current file fma_small/075/075936.mp3\n",
      "current file fma_small/089/089350.mp3\n",
      "short file fma_small/098/098565.mp3\n",
      "short file fma_small/098/098567.mp3\n",
      "short file fma_small/098/098569.mp3\n",
      "corrupt file fma_small/099/099134.mp3\n",
      "current file fma_small/099/099436.mp3\n",
      "corrupt file fma_small/108/108925.mp3\n",
      "current file fma_small/110/110260.mp3\n",
      "current file fma_small/115/115852.mp3\n",
      "current file fma_small/122/122578.mp3\n",
      "current file fma_small/127/127295.mp3\n",
      "corrupt file fma_small/133/133297.mp3\n",
      "current file fma_small/133/133544.mp3\n",
      "current file fma_small/142/142097.mp3\n",
      "\n"
     ]
    },
    {
     "data": {
      "text/plain": [
       "(['fma_small/099/099134.mp3',\n",
       "  'fma_small/108/108925.mp3',\n",
       "  'fma_small/133/133297.mp3'],\n",
       " ['fma_small/098/098565.mp3',\n",
       "  'fma_small/098/098567.mp3',\n",
       "  'fma_small/098/098569.mp3'])"
      ]
     },
     "execution_count": 19,
     "metadata": {},
     "output_type": "execute_result"
    }
   ],
   "source": [
    "#change back to audio tracks\n",
    "corrupted_files = []\n",
    "short_files = []\n",
    "for i in tqdm(range(len(audio_tracks))):\n",
    "    track = audio_tracks[i]\n",
    "    if (i % 500 == 0):\n",
    "        print(\"current file {}\".format(track))\n",
    "    try:\n",
    "        sound = AudioSegment.from_mp3(track)\n",
    "        if (len(sound) > 29000):\n",
    "            sound.export(dst + track[9:-4]+'.wav', format = \"wav\")\n",
    "        else:\n",
    "            short_files.append(track)\n",
    "            print(\"short file\", track)\n",
    "    except:\n",
    "        corrupted_files.append(track)\n",
    "        print(\"corrupt file\", track)\n",
    "        \n",
    "corrupted_files, short_files"
   ]
  },
  {
   "cell_type": "code",
   "execution_count": null,
   "metadata": {},
   "outputs": [],
   "source": [
    "corrupted_files"
   ]
  },
  {
   "cell_type": "code",
   "execution_count": 6,
   "metadata": {
    "scrolled": true
   },
   "outputs": [
    {
     "data": {
      "text/plain": [
       "[]"
      ]
     },
     "execution_count": 6,
     "metadata": {},
     "output_type": "execute_result"
    }
   ],
   "source": [
    "short_files"
   ]
  },
  {
   "cell_type": "code",
   "execution_count": 20,
   "metadata": {},
   "outputs": [
    {
     "data": {
      "text/plain": [
       "30003"
      ]
     },
     "execution_count": 20,
     "metadata": {},
     "output_type": "execute_result"
    }
   ],
   "source": [
    "sound = AudioSegment.from_mp3('fma_small/099/099436.mp3')\n",
    "len(sound)"
   ]
  }
 ],
 "metadata": {
  "kernelspec": {
   "display_name": "Python 3",
   "language": "python",
   "name": "python3"
  },
  "language_info": {
   "codemirror_mode": {
    "name": "ipython",
    "version": 3
   },
   "file_extension": ".py",
   "mimetype": "text/x-python",
   "name": "python",
   "nbconvert_exporter": "python",
   "pygments_lexer": "ipython3",
   "version": "3.6.9"
  }
 },
 "nbformat": 4,
 "nbformat_minor": 2
}
