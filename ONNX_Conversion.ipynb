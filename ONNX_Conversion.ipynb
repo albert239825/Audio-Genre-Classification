{
 "cells": [
  {
   "cell_type": "code",
   "execution_count": 3,
   "metadata": {},
   "outputs": [
    {
     "name": "stderr",
     "output_type": "stream",
     "text": [
      "c:\\Users\\Albert\\anaconda3\\envs\\ml_env\\lib\\runpy.py:125: RuntimeWarning: 'tf2onnx.convert' found in sys.modules after import of package 'tf2onnx', but prior to execution of 'tf2onnx.convert'; this may result in unpredictable behaviour\n",
      "  warn(RuntimeWarning(msg))\n",
      "2022-05-26 15:55:22,698 - WARNING - '--tag' not specified for saved_model. Using --tag serve\n",
      "Traceback (most recent call last):\n",
      "  File \"c:\\Users\\Albert\\anaconda3\\envs\\ml_env\\lib\\runpy.py\", line 193, in _run_module_as_main\n",
      "    \"__main__\", mod_spec)\n",
      "  File \"c:\\Users\\Albert\\anaconda3\\envs\\ml_env\\lib\\runpy.py\", line 85, in _run_code\n",
      "    exec(code, run_globals)\n",
      "  File \"c:\\Users\\Albert\\anaconda3\\envs\\ml_env\\lib\\site-packages\\tf2onnx\\convert.py\", line 640, in <module>\n",
      "    main()\n",
      "  File \"c:\\Users\\Albert\\anaconda3\\envs\\ml_env\\lib\\site-packages\\tf2onnx\\convert.py\", line 238, in main\n",
      "    use_graph_names=args.use_graph_names)\n",
      "  File \"c:\\Users\\Albert\\anaconda3\\envs\\ml_env\\lib\\site-packages\\tf2onnx\\tf_loader.py\", line 615, in from_saved_model\n",
      "    tag, signatures, concrete_function, large_model, use_graph_names)\n",
      "  File \"c:\\Users\\Albert\\anaconda3\\envs\\ml_env\\lib\\site-packages\\tf2onnx\\tf_loader.py\", line 552, in _from_saved_model_v2\n",
      "    imported = tf.saved_model.load(model_path, tags=tag)  # pylint: disable=no-value-for-parameter\n",
      "  File \"c:\\Users\\Albert\\anaconda3\\envs\\ml_env\\lib\\site-packages\\tensorflow\\python\\saved_model\\load.py\", line 864, in load\n",
      "    result = load_internal(export_dir, tags, options)[\"root\"]\n",
      "  File \"c:\\Users\\Albert\\anaconda3\\envs\\ml_env\\lib\\site-packages\\tensorflow\\python\\saved_model\\load.py\", line 903, in load_internal\n",
      "    ckpt_options, options, filters)\n",
      "  File \"c:\\Users\\Albert\\anaconda3\\envs\\ml_env\\lib\\site-packages\\tensorflow\\python\\saved_model\\load.py\", line 162, in __init__\n",
      "    self._load_all()\n",
      "  File \"c:\\Users\\Albert\\anaconda3\\envs\\ml_env\\lib\\site-packages\\tensorflow\\python\\saved_model\\load.py\", line 259, in _load_all\n",
      "    self._load_nodes()\n",
      "  File \"c:\\Users\\Albert\\anaconda3\\envs\\ml_env\\lib\\site-packages\\tensorflow\\python\\saved_model\\load.py\", line 448, in _load_nodes\n",
      "    slot_variable = optimizer_object.add_slot(\n",
      "AttributeError: '_UserObject' object has no attribute 'add_slot'\n"
     ]
    }
   ],
   "source": [
    "input_dir = \"models/cnn_model_32\"\n",
    "output_dir = 'models/cnn_model_32/model.onnx'\n",
    "\n",
    "!python -m tf2onnx.convert --opset 13 \\\n",
    "    --saved-model {input_dir} \\\n",
    "    --output  {output_dir}\n"
   ]
  }
 ],
 "metadata": {
  "interpreter": {
   "hash": "47d34fee0f7368dbd7c2882bc615de5475e42c8fda22c10bc1aac096439de75b"
  },
  "kernelspec": {
   "display_name": "Python 3.7.11 ('ml_env')",
   "language": "python",
   "name": "python3"
  },
  "language_info": {
   "codemirror_mode": {
    "name": "ipython",
    "version": 3
   },
   "file_extension": ".py",
   "mimetype": "text/x-python",
   "name": "python",
   "nbconvert_exporter": "python",
   "pygments_lexer": "ipython3",
   "version": "3.7.11"
  },
  "orig_nbformat": 4
 },
 "nbformat": 4,
 "nbformat_minor": 2
}
